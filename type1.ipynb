{
 "cells": [
  {
   "cell_type": "code",
   "execution_count": 1,
   "metadata": {},
   "outputs": [],
   "source": [
    "import requests\n",
    "from bs4 import BeautifulSoup"
   ]
  },
  {
   "cell_type": "code",
   "execution_count": 2,
   "metadata": {},
   "outputs": [],
   "source": [
    "url = 'url'\n",
    "response = requests.get(url)"
   ]
  },
  {
   "cell_type": "code",
   "execution_count": 3,
   "metadata": {},
   "outputs": [
    {
     "name": "stdout",
     "output_type": "stream",
     "text": [
      "{'url': 'https://grindgear.in/', 'text': '\\n                  Sada Strong Raho\\n\\n\\n\\n \\n                  Use code GRIND for 10% off\\n\\n\\n\\n Grind Gear Grind Gear (Powerlifting) Make In India We here at Grind Gear believe everyone wants good quality powerlifting accessories. Made by an Athlete for Athletes.', 'h1': ['\\n'], 'h2': ['\\n\\n\\nItem added to your cart', '\\nPOWERLIFTING SHOP\\n', 'Bench Grip Mat\\n', 'Featured products', 'Powerlifting Shoes\\n', 'The Best Deadlift Straps', 'Info', 'Our mission', 'Subscribe to our emails'], 'h3': ['\\n\\n                Ammonia Smelling Salts\\n              \\n', '\\n\\n              Ammonia Smelling Salts\\n            \\n', '\\n\\n                Deadlift Straps (aka. Multipurpose Straps)\\n              \\n', '\\n\\n              Deadlift Straps (aka. Multipurpose Straps)\\n            \\n', '\\n\\n                POWERLIFTING WRIST WRAPS\\n              \\n', '\\n\\n              POWERLIFTING WRIST WRAPS\\n            \\n', '\\n\\n                Liquid chalk\\n              \\n', '\\n\\n              Liquid chalk\\n            \\n', '\\n\\n                Grind Gear Squat Shorts (Black)\\n              \\n', '\\n\\n              Grind Gear Squat Shorts (Black)\\n            \\n', '\\n\\n                Powerlifting Shoes\\n              \\n', '\\n\\n              Powerlifting Shoes\\n            \\n', '\\n\\n                Deadlift Socks\\n              \\n', '\\n\\n              Deadlift Socks\\n            \\n', '\\n\\n                Classic Powerlifting Singlet (Black)\\n              \\n', '\\n\\n              Classic Powerlifting Singlet (Black)\\n            \\n', '\\n\\n                Sport socks\\n              \\n', '\\n\\n              Sport socks\\n            \\n', '\\n\\n                ADJUSTABLE 13MM POWERLIFTING LEVER BELT- 1 YEAR WARRANTY\\n              \\n', '\\n\\n              ADJUSTABLE 13MM POWERLIFTING LEVER BELT- 1 YEAR WARRANTY\\n            \\n', '\\n\\n                TRAINING T-SHIRT\\n              \\n', '\\n\\n              TRAINING T-SHIRT\\n            \\n', '\\n\\n                POWERLIFTING DUFFLE BAG 40L WITH BELT HOLDER\\n              \\n', '\\n\\n              POWERLIFTING DUFFLE BAG 40L WITH BELT HOLDER\\n            \\n']}\n"
     ]
    }
   ],
   "source": [
    "soup = BeautifulSoup(response.content, 'html.parser')\n",
    "text = ' '.join([p.get_text() for p in soup.find_all('p')])\n",
    "h1 = [h1.get_text() for h1 in soup.find_all('h1')]\n",
    "h2 = [h2.get_text() for h2 in soup.find_all('h2')]\n",
    "h3 = [h3.get_text() for h3 in soup.find_all('h3')]\n",
    "\n",
    "scraped_data = {\n",
    "    'url': url,\n",
    "    'text': text,\n",
    "    'h1': h1,\n",
    "    'h2': h2,\n",
    "    'h3': h3\n",
    "}\n",
    "print(scraped_data)\n"
   ]
  }
 ],
 "metadata": {
  "kernelspec": {
   "display_name": "Python 3",
   "language": "python",
   "name": "python3"
  },
  "language_info": {
   "codemirror_mode": {
    "name": "ipython",
    "version": 3
   },
   "file_extension": ".py",
   "mimetype": "text/x-python",
   "name": "python",
   "nbconvert_exporter": "python",
   "pygments_lexer": "ipython3",
   "version": "3.8.5"
  }
 },
 "nbformat": 4,
 "nbformat_minor": 2
}
